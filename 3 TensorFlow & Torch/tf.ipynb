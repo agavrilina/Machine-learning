{
  "nbformat": 4,
  "nbformat_minor": 0,
  "metadata": {
    "kernelspec": {
      "display_name": "Python 3",
      "language": "python",
      "name": "python3"
    },
    "language_info": {
      "codemirror_mode": {
        "name": "ipython",
        "version": 3
      },
      "file_extension": ".py",
      "mimetype": "text/x-python",
      "name": "python",
      "nbconvert_exporter": "python",
      "pygments_lexer": "ipython3",
      "version": "3.7.6"
    },
    "latex_envs": {
      "LaTeX_envs_menu_present": true,
      "autoclose": false,
      "autocomplete": true,
      "bibliofile": "biblio.bib",
      "cite_by": "apalike",
      "current_citInitial": 1,
      "eqLabelWithNumbers": true,
      "eqNumInitial": 1,
      "hotkeys": {
        "equation": "Ctrl-E",
        "itemize": "Ctrl-I"
      },
      "labels_anchors": false,
      "latex_user_defs": false,
      "report_style_numbering": false,
      "user_envs_cfg": false
    },
    "colab": {
      "name": "tf_final.ipynb",
      "provenance": [],
      "collapsed_sections": []
    }
  },
  "cells": [
    {
      "cell_type": "code",
      "metadata": {
        "id": "gaDioOD5d2Ba",
        "colab_type": "code",
        "colab": {}
      },
      "source": [
        "import tensorflow as tf\n",
        "import matplotlib\n",
        "import matplotlib.pyplot as plt"
      ],
      "execution_count": 0,
      "outputs": []
    },
    {
      "cell_type": "code",
      "metadata": {
        "id": "27Xx6Ehdd2Bn",
        "colab_type": "code",
        "outputId": "8830215b-9fda-4731-8b9c-8ffc356a10d5",
        "colab": {
          "base_uri": "https://localhost:8080/",
          "height": 34
        }
      },
      "source": [
        "# так как использую колаб, надо дать доступ к гугл-диску\n",
        "from google.colab import drive\n",
        "drive.mount('/content/drive')"
      ],
      "execution_count": 2,
      "outputs": [
        {
          "output_type": "stream",
          "text": [
            "Drive already mounted at /content/drive; to attempt to forcibly remount, call drive.mount(\"/content/drive\", force_remount=True).\n"
          ],
          "name": "stdout"
        }
      ]
    },
    {
      "cell_type": "markdown",
      "metadata": {
        "id": "uYK0I-w_d2B2",
        "colab_type": "text"
      },
      "source": [
        "**Задание 3b.1**\n",
        "\n",
        "Перед вами опять до боли знакомый набор данных детектора черенковского излучения. Ваша задача переписать классификатор из блокнота `torch.ipynb` с использованием фреймворка TensorFlow и API Keras. Почти весь код уже написан, вам осталось самостоятельно заполнить пропущенные места, используя документацию (https://www.tensorflow.org/api_docs/python/tf/keras/layers):\n",
        "\n",
        "* Аналогом `torch.nn.Sequential` является `tf.keras.Sequential`,\n",
        "* Полносвязный слой удобно задавать используя `tf.keras.layers.Dense`.\n",
        "\n",
        "Используйте значения метапараметров (количество скрытых нейронов, скорость обучения и т.п.) определенные при работе с аналогичным заданием из блокнота `torch.ipynb`."
      ]
    },
    {
      "cell_type": "code",
      "metadata": {
        "id": "OxqXtwc7d2B4",
        "colab_type": "code",
        "colab": {}
      },
      "source": [
        "import numpy as np\n",
        "import pandas as pd\n",
        "\n",
        "names = [\"length\", \"width\", \"size\", \"conc\", \"conc1\", \"asym\", \"m3long\", \"m3trans\", \"alpha\", \"dist\", \"class\"]\n",
        "data = pd.read_csv('/content/drive/My Drive/Colab Notebooks/magic04.csv', names=names)\n",
        "\n",
        "x = np.asarray(data.iloc[:, :-1]).astype(np.float32)\n",
        "y = np.asarray(data.iloc[:, [-1]])\n",
        "y = (y == 'g').astype(np.float32)"
      ],
      "execution_count": 0,
      "outputs": []
    },
    {
      "cell_type": "code",
      "metadata": {
        "id": "Py0NRRNad2CA",
        "colab_type": "code",
        "colab": {}
      },
      "source": [
        "from sklearn.model_selection import train_test_split\n",
        "\n",
        "x_train, x_test, y_train, y_test = train_test_split(x, y)\n",
        "\n",
        "train_dataset = tf.data.Dataset.from_tensor_slices((x_train, y_train)).batch(5)\n",
        "test_dataset = tf.data.Dataset.from_tensor_slices((x_test, y_test)).batch(5)"
      ],
      "execution_count": 0,
      "outputs": []
    },
    {
      "cell_type": "code",
      "metadata": {
        "id": "O0bKR6iyd2CH",
        "colab_type": "code",
        "outputId": "4094dd69-f816-445c-b30a-63d2a7e97c30",
        "colab": {
          "base_uri": "https://localhost:8080/",
          "height": 1000
        }
      },
      "source": [
        "tf.random.set_seed(43)\n",
        "\n",
        "INPUT_DIM  = x.shape[1]\n",
        "HIDDEN_DIM = 30 # ???\n",
        "OUTPUT_DIM = y.shape[1]\n",
        "\n",
        "model = tf.keras.Sequential()\n",
        "model.add(tf.keras.layers.Dense(HIDDEN_DIM, activation='sigmoid'))\n",
        "model.add(tf.keras.layers.Dense(OUTPUT_DIM, activation='tanh'))\n",
        "\n",
        "learning_rate = 1e-3\n",
        "model.compile(optimizer=tf.keras.optimizers.Adam(learning_rate=learning_rate), loss='MSE', metrics=['accuracy'])\n",
        "\n",
        "_ = model.fit(train_dataset, epochs=50, validation_data=test_dataset)"
      ],
      "execution_count": 5,
      "outputs": [
        {
          "output_type": "stream",
          "text": [
            "Epoch 1/50\n",
            "2853/2853 [==============================] - 4s 1ms/step - loss: 0.1972 - accuracy: 0.7232 - val_loss: 0.1654 - val_accuracy: 0.7533\n",
            "Epoch 2/50\n",
            "2853/2853 [==============================] - 4s 1ms/step - loss: 0.1573 - accuracy: 0.7694 - val_loss: 0.1566 - val_accuracy: 0.7735\n",
            "Epoch 3/50\n",
            "2853/2853 [==============================] - 4s 1ms/step - loss: 0.1500 - accuracy: 0.7844 - val_loss: 0.1512 - val_accuracy: 0.7849\n",
            "Epoch 4/50\n",
            "2853/2853 [==============================] - 4s 1ms/step - loss: 0.1443 - accuracy: 0.7972 - val_loss: 0.1448 - val_accuracy: 0.7933\n",
            "Epoch 5/50\n",
            "2853/2853 [==============================] - 4s 1ms/step - loss: 0.1403 - accuracy: 0.8081 - val_loss: 0.1431 - val_accuracy: 0.7924\n",
            "Epoch 6/50\n",
            "2853/2853 [==============================] - 4s 1ms/step - loss: 0.1374 - accuracy: 0.8137 - val_loss: 0.1427 - val_accuracy: 0.8000\n",
            "Epoch 7/50\n",
            "2853/2853 [==============================] - 4s 1ms/step - loss: 0.1363 - accuracy: 0.8142 - val_loss: 0.1415 - val_accuracy: 0.8036\n",
            "Epoch 8/50\n",
            "2853/2853 [==============================] - 4s 1ms/step - loss: 0.1356 - accuracy: 0.8128 - val_loss: 0.1413 - val_accuracy: 0.8044\n",
            "Epoch 9/50\n",
            "2853/2853 [==============================] - 4s 1ms/step - loss: 0.1351 - accuracy: 0.8149 - val_loss: 0.1400 - val_accuracy: 0.8065\n",
            "Epoch 10/50\n",
            "2853/2853 [==============================] - 4s 1ms/step - loss: 0.1348 - accuracy: 0.8149 - val_loss: 0.1392 - val_accuracy: 0.8074\n",
            "Epoch 11/50\n",
            "2853/2853 [==============================] - 4s 1ms/step - loss: 0.1346 - accuracy: 0.8145 - val_loss: 0.1391 - val_accuracy: 0.8063\n",
            "Epoch 12/50\n",
            "2853/2853 [==============================] - 4s 1ms/step - loss: 0.1338 - accuracy: 0.8173 - val_loss: 0.1368 - val_accuracy: 0.8118\n",
            "Epoch 13/50\n",
            "2853/2853 [==============================] - 4s 1ms/step - loss: 0.1335 - accuracy: 0.8181 - val_loss: 0.1362 - val_accuracy: 0.8135\n",
            "Epoch 14/50\n",
            "2853/2853 [==============================] - 4s 1ms/step - loss: 0.1333 - accuracy: 0.8180 - val_loss: 0.1369 - val_accuracy: 0.8116\n",
            "Epoch 15/50\n",
            "2853/2853 [==============================] - 4s 1ms/step - loss: 0.1332 - accuracy: 0.8181 - val_loss: 0.1383 - val_accuracy: 0.8090\n",
            "Epoch 16/50\n",
            "2853/2853 [==============================] - 4s 1ms/step - loss: 0.1327 - accuracy: 0.8187 - val_loss: 0.1371 - val_accuracy: 0.8107\n",
            "Epoch 17/50\n",
            "2853/2853 [==============================] - 4s 1ms/step - loss: 0.1330 - accuracy: 0.8193 - val_loss: 0.1374 - val_accuracy: 0.8116\n",
            "Epoch 18/50\n",
            "2853/2853 [==============================] - 4s 1ms/step - loss: 0.1323 - accuracy: 0.8205 - val_loss: 0.1356 - val_accuracy: 0.8132\n",
            "Epoch 19/50\n",
            "2853/2853 [==============================] - 4s 1ms/step - loss: 0.1329 - accuracy: 0.8188 - val_loss: 0.1350 - val_accuracy: 0.8154\n",
            "Epoch 20/50\n",
            "2853/2853 [==============================] - 4s 2ms/step - loss: 0.1331 - accuracy: 0.8174 - val_loss: 0.1345 - val_accuracy: 0.8170\n",
            "Epoch 21/50\n",
            "2853/2853 [==============================] - 4s 1ms/step - loss: 0.1328 - accuracy: 0.8169 - val_loss: 0.1345 - val_accuracy: 0.8145\n",
            "Epoch 22/50\n",
            "2853/2853 [==============================] - 4s 1ms/step - loss: 0.1323 - accuracy: 0.8196 - val_loss: 0.1345 - val_accuracy: 0.8160\n",
            "Epoch 23/50\n",
            "2853/2853 [==============================] - 4s 1ms/step - loss: 0.1327 - accuracy: 0.8191 - val_loss: 0.1342 - val_accuracy: 0.8166\n",
            "Epoch 24/50\n",
            "2853/2853 [==============================] - 4s 1ms/step - loss: 0.1319 - accuracy: 0.8185 - val_loss: 0.1333 - val_accuracy: 0.8187\n",
            "Epoch 25/50\n",
            "2853/2853 [==============================] - 4s 1ms/step - loss: 0.1320 - accuracy: 0.8198 - val_loss: 0.1344 - val_accuracy: 0.8177\n",
            "Epoch 26/50\n",
            "2853/2853 [==============================] - 4s 1ms/step - loss: 0.1317 - accuracy: 0.8205 - val_loss: 0.1340 - val_accuracy: 0.8175\n",
            "Epoch 27/50\n",
            "2853/2853 [==============================] - 4s 1ms/step - loss: 0.1316 - accuracy: 0.8222 - val_loss: 0.1347 - val_accuracy: 0.8160\n",
            "Epoch 28/50\n",
            "2853/2853 [==============================] - 4s 1ms/step - loss: 0.1318 - accuracy: 0.8219 - val_loss: 0.1360 - val_accuracy: 0.8122\n",
            "Epoch 29/50\n",
            "2853/2853 [==============================] - 4s 1ms/step - loss: 0.1316 - accuracy: 0.8212 - val_loss: 0.1341 - val_accuracy: 0.8162\n",
            "Epoch 30/50\n",
            "2853/2853 [==============================] - 4s 1ms/step - loss: 0.1311 - accuracy: 0.8212 - val_loss: 0.1329 - val_accuracy: 0.8187\n",
            "Epoch 31/50\n",
            "2853/2853 [==============================] - 4s 1ms/step - loss: 0.1315 - accuracy: 0.8214 - val_loss: 0.1324 - val_accuracy: 0.8193\n",
            "Epoch 32/50\n",
            "2853/2853 [==============================] - 4s 1ms/step - loss: 0.1312 - accuracy: 0.8210 - val_loss: 0.1342 - val_accuracy: 0.8151\n",
            "Epoch 33/50\n",
            "2853/2853 [==============================] - 4s 1ms/step - loss: 0.1314 - accuracy: 0.8219 - val_loss: 0.1319 - val_accuracy: 0.8204\n",
            "Epoch 34/50\n",
            "2853/2853 [==============================] - 4s 1ms/step - loss: 0.1312 - accuracy: 0.8217 - val_loss: 0.1325 - val_accuracy: 0.8196\n",
            "Epoch 35/50\n",
            "2853/2853 [==============================] - 4s 1ms/step - loss: 0.1311 - accuracy: 0.8222 - val_loss: 0.1316 - val_accuracy: 0.8166\n",
            "Epoch 36/50\n",
            "2853/2853 [==============================] - 4s 1ms/step - loss: 0.1306 - accuracy: 0.8214 - val_loss: 0.1320 - val_accuracy: 0.8221\n",
            "Epoch 37/50\n",
            "2853/2853 [==============================] - 4s 1ms/step - loss: 0.1305 - accuracy: 0.8225 - val_loss: 0.1332 - val_accuracy: 0.8166\n",
            "Epoch 38/50\n",
            "2853/2853 [==============================] - 4s 1ms/step - loss: 0.1310 - accuracy: 0.8210 - val_loss: 0.1317 - val_accuracy: 0.8181\n",
            "Epoch 39/50\n",
            "2853/2853 [==============================] - 4s 1ms/step - loss: 0.1308 - accuracy: 0.8219 - val_loss: 0.1327 - val_accuracy: 0.8160\n",
            "Epoch 40/50\n",
            "2853/2853 [==============================] - 4s 1ms/step - loss: 0.1307 - accuracy: 0.8225 - val_loss: 0.1323 - val_accuracy: 0.8168\n",
            "Epoch 41/50\n",
            "2853/2853 [==============================] - 4s 1ms/step - loss: 0.1309 - accuracy: 0.8199 - val_loss: 0.1307 - val_accuracy: 0.8223\n",
            "Epoch 42/50\n",
            "2853/2853 [==============================] - 4s 1ms/step - loss: 0.1301 - accuracy: 0.8213 - val_loss: 0.1311 - val_accuracy: 0.8215\n",
            "Epoch 43/50\n",
            "2853/2853 [==============================] - 4s 1ms/step - loss: 0.1307 - accuracy: 0.8230 - val_loss: 0.1315 - val_accuracy: 0.8172\n",
            "Epoch 44/50\n",
            "2853/2853 [==============================] - 4s 1ms/step - loss: 0.1306 - accuracy: 0.8218 - val_loss: 0.1326 - val_accuracy: 0.8162\n",
            "Epoch 45/50\n",
            "2853/2853 [==============================] - 4s 1ms/step - loss: 0.1302 - accuracy: 0.8226 - val_loss: 0.1314 - val_accuracy: 0.8198\n",
            "Epoch 46/50\n",
            "2853/2853 [==============================] - 4s 1ms/step - loss: 0.1305 - accuracy: 0.8228 - val_loss: 0.1317 - val_accuracy: 0.8198\n",
            "Epoch 47/50\n",
            "2853/2853 [==============================] - 4s 1ms/step - loss: 0.1303 - accuracy: 0.8220 - val_loss: 0.1311 - val_accuracy: 0.8202\n",
            "Epoch 48/50\n",
            "2853/2853 [==============================] - 4s 1ms/step - loss: 0.1300 - accuracy: 0.8234 - val_loss: 0.1326 - val_accuracy: 0.8204\n",
            "Epoch 49/50\n",
            "2853/2853 [==============================] - 4s 1ms/step - loss: 0.1302 - accuracy: 0.8219 - val_loss: 0.1323 - val_accuracy: 0.8202\n",
            "Epoch 50/50\n",
            "2853/2853 [==============================] - 4s 1ms/step - loss: 0.1296 - accuracy: 0.8219 - val_loss: 0.1311 - val_accuracy: 0.8202\n"
          ],
          "name": "stdout"
        }
      ]
    },
    {
      "cell_type": "code",
      "metadata": {
        "id": "6FX02OkTd2CR",
        "colab_type": "code",
        "outputId": "1c4739b2-034f-4638-b7f0-d730e450795f",
        "colab": {
          "base_uri": "https://localhost:8080/",
          "height": 574
        }
      },
      "source": [
        "import sklearn.metrics\n",
        "\n",
        "y_true = y_test\n",
        "scores = model.predict(x_test)\n",
        "\n",
        "min_score, max_score = np.min(scores), np.max(scores)\n",
        "bins = np.linspace(min_score, max_score, 25)\n",
        "plt.figure()\n",
        "plt.hist(scores[y_true.reshape(-1) == 0], bins, alpha=0.5, label='Hadron (negative)')\n",
        "plt.hist(scores[y_true.reshape(-1) == 1], bins, alpha=0.5, label='Gamma (positive)')\n",
        "plt.xlabel(\"Decision function (value)\")\n",
        "plt.ylabel(\"Frequency\")\n",
        "plt.legend()\n",
        "\n",
        "fpr, tpr, _ = sklearn.metrics.roc_curve(y_true, scores)\n",
        "auc = sklearn.metrics.roc_auc_score(y_true, scores)\n",
        "plt.figure()\n",
        "plt.plot(fpr, tpr)\n",
        "plt.title(\"Receiver operating characteristic\")\n",
        "plt.xlabel(\"False positive rate\")\n",
        "plt.ylabel(\"True positive rate\")\n",
        "print(\"AUC                       = {:.4f}\".format(auc))"
      ],
      "execution_count": 6,
      "outputs": [
        {
          "output_type": "stream",
          "text": [
            "AUC                       = 0.8751\n"
          ],
          "name": "stdout"
        },
        {
          "output_type": "display_data",
          "data": {
            "image/png": "[encoded data removed]",
            "text/plain": [
              "<Figure size 432x288 with 1 Axes>"
            ]
          },
          "metadata": {
            "tags": [],
            "needs_background": "light"
          }
        },
        {
          "output_type": "display_data",
          "data": {
            "image/png": "[encoded data removed]",
            "text/plain": [
              "<Figure size 432x288 with 1 Axes>"
            ]
          },
          "metadata": {
            "tags": [],
            "needs_background": "light"
          }
        }
      ]
    },
    {
      "cell_type": "markdown",
      "metadata": {
        "id": "D5qXAmtfd2Ce",
        "colab_type": "text"
      },
      "source": [
        "**Задание 3b.2**\n",
        "\n",
        "В блокноте `torch.ipynb` реализован автоэнкодер для набора рукописных цифр MNIST на базе свёрточных нейронных сетей. Настало время переписать и его с использованием фреймворка TensorFlow и API Keras.\n",
        "Используйте документацию (https://www.tensorflow.org/api_docs/python/tf/keras/layers), чтобы воспроизвести известную вам существующую архитектуру с помощью нового фреймворка.\n",
        "\n",
        "* Нарисуйте четыре случайных изображения из тестового набора данных: исходное изображение, закодированное сжатое представление в виде гистограмы, и раскодированное изображение.\n",
        "* Попробуйте сгенерировать четыре случайных изображения, подав на вход декодера случайные данные."
      ]
    },
    {
      "cell_type": "code",
      "metadata": {
        "id": "zg9lN6rTd2Ch",
        "colab_type": "code",
        "colab": {}
      },
      "source": [
        "tf.random.set_seed(43)\n",
        "\n",
        "(x_train, y_train), (x_test, y_test) = tf.keras.datasets.mnist.load_data()\n",
        "x_train, x_test = x_train / 255.0, x_test / 255.0\n",
        "\n",
        "train_dataset = tf.data.Dataset.from_tensor_slices((x_train, x_train)).shuffle(1000).batch(4)\n",
        "test_dataset = tf.data.Dataset.from_tensor_slices((x_test, x_test)).shuffle(1000).batch(4)"
      ],
      "execution_count": 0,
      "outputs": []
    },
    {
      "cell_type": "code",
      "metadata": {
        "id": "CjgNylP7d2Cn",
        "colab_type": "code",
        "colab": {}
      },
      "source": [
        "INPUT_SHAPE = (28, 28, 1) \n",
        "HIDDEN1_CH = 24 \n",
        "HIDDEN2_CH = 32 \n",
        "LATENT_DIM = 8 \n",
        " \n",
        "def get_model(): \n",
        "    inputs = tf.keras.Input(shape=INPUT_SHAPE, name='encoder_input') \n",
        "    # аналогично заданию в файле torch, только используя библиотеку tf и keras\n",
        "    encoder = tf.keras.Sequential([ \n",
        "    inputs, \n",
        "    tf.keras.layers.Conv2D(HIDDEN1_CH, 3, strides=2, activation='relu'), \n",
        "    tf.keras.layers.Conv2D(HIDDEN2_CH, 3, strides=2, activation='relu', use_bias=False), \n",
        "    tf.keras.layers.Conv2D(LATENT_DIM, 6, activation='sigmoid', use_bias=False) \n",
        "    ]) \n",
        "\n",
        "    decoder = tf.keras.Sequential([ \n",
        "    tf.keras.layers.LayerNormalization(), \n",
        "    tf.keras.layers.Conv2DTranspose(HIDDEN2_CH, 6, activation='relu', use_bias=False), \n",
        "    tf.keras.layers.Conv2DTranspose(HIDDEN2_CH, 3, strides=2, activation='relu', use_bias=False), \n",
        "    tf.keras.layers.Conv2DTranspose(HIDDEN1_CH, 4, strides=2, activation='relu', use_bias=False), \n",
        "    tf.keras.layers.Conv2DTranspose(1, 1, activation='sigmoid', use_bias=False) \n",
        "    ]) \n",
        "\n",
        "    autoencoder = tf.keras.Model(inputs=inputs, outputs=decoder(encoder(inputs))) \n",
        "\n",
        "    return autoencoder, encoder, decoder \n",
        " \n",
        "model, encoder, decoder = get_model()"
      ],
      "execution_count": 0,
      "outputs": []
    },
    {
      "cell_type": "code",
      "metadata": {
        "id": "ghFxFCNwJz8G",
        "colab_type": "code",
        "outputId": "c4a69611-e4f4-4b95-98a7-88a7aa157530",
        "colab": {
          "base_uri": "https://localhost:8080/",
          "height": 221
        }
      },
      "source": [
        "tf.random.set_seed(41)\n",
        "\n",
        "learning_rate = 1e-3\n",
        "model.compile(optimizer=tf.keras.optimizers.Adam(learning_rate=learning_rate), loss='MSE')\n",
        "\n",
        "_ = model.fit(train_dataset, epochs=6, validation_data=test_dataset)"
      ],
      "execution_count": 9,
      "outputs": [
        {
          "output_type": "stream",
          "text": [
            "Epoch 1/6\n",
            "15000/15000 [==============================] - 234s 16ms/step - loss: 0.0275 - val_loss: 0.0238\n",
            "Epoch 2/6\n",
            "15000/15000 [==============================] - 268s 18ms/step - loss: 0.0231 - val_loss: 0.0225\n",
            "Epoch 3/6\n",
            "15000/15000 [==============================] - 311s 21ms/step - loss: 0.0221 - val_loss: 0.0220\n",
            "Epoch 4/6\n",
            "15000/15000 [==============================] - 312s 21ms/step - loss: 0.0216 - val_loss: 0.0217\n",
            "Epoch 5/6\n",
            "15000/15000 [==============================] - 343s 23ms/step - loss: 0.0212 - val_loss: 0.0212\n",
            "Epoch 6/6\n",
            "15000/15000 [==============================] - 404s 27ms/step - loss: 0.0210 - val_loss: 0.0210\n"
          ],
          "name": "stdout"
        }
      ]
    },
    {
      "cell_type": "code",
      "metadata": {
        "id": "AS8MwWzPd2Cz",
        "colab_type": "code",
        "outputId": "d1565e0f-0777-4ab1-bc4b-e388f7b81405",
        "colab": {
          "base_uri": "https://localhost:8080/",
          "height": 457
        }
      },
      "source": [
        "images, _ = iter(test_dataset).next()\n",
        "plt.figure(figsize=(10, 7.5)) \n",
        "n_col = 4 \n",
        "encoded = encoder(images) \n",
        "decoded = decoder(encoded) \n",
        "for i in range(n_col): \n",
        " ax = plt.subplot(3, n_col, i + 1) \n",
        " plt.imshow(images[i], cmap='gray') \n",
        " ax = plt.subplot(3, n_col, i + 1 + n_col) \n",
        " plt.bar(np.arange(8), tf.reshape(encoded[i],8)) \n",
        " ax = plt.subplot(3, n_col, i + 1 + n_col * 2) \n",
        " plt.imshow(tf.reshape(decoded[i], [28,28]), cmap='gray') \n",
        " \n",
        "plt.show()"
      ],
      "execution_count": 10,
      "outputs": [
        {
          "output_type": "display_data",
          "data": {
            "image/png": "[encoded data removed]",
            "text/plain": [
              "<Figure size 720x540 with 12 Axes>"
            ]
          },
          "metadata": {
            "tags": [],
            "needs_background": "light"
          }
        }
      ]
    },
    {
      "cell_type": "code",
      "metadata": {
        "id": "LHJ6_Voqd2C4",
        "colab_type": "code",
        "outputId": "85442870-f02c-4123-ff2c-5ec626c0eeb1",
        "colab": {
          "base_uri": "https://localhost:8080/",
          "height": 319
        }
      },
      "source": [
        "np.random.seed(41) \n",
        " \n",
        "encoded = tf.random.uniform((4,1,1,8)) \n",
        "decoded = decoder(encoded) \n",
        " \n",
        "plt.figure(figsize=(10, 5)) \n",
        "n_col = 4 \n",
        "for i in range(n_col): \n",
        " ax = plt.subplot(2, n_col, i + 1) \n",
        " plt.bar(np.arange(encoded.shape[3]), tf.reshape(encoded[i,:],8)) \n",
        " ax = plt.subplot(2, n_col, i + 1 + n_col) \n",
        " plt.imshow(tf.reshape(decoded[i],[28,28]), cmap='gray') \n",
        "plt.show()"
      ],
      "execution_count": 11,
      "outputs": [
        {
          "output_type": "display_data",
          "data": {
            "image/png": "[encoded data removed]",
            "text/plain": [
              "<Figure size 720x360 with 8 Axes>"
            ]
          },
          "metadata": {
            "tags": [],
            "needs_background": "light"
          }
        }
      ]
    },
    {
      "cell_type": "code",
      "metadata": {
        "id": "IiGKymLvhvpJ",
        "colab_type": "code",
        "colab": {}
      },
      "source": [
        ""
      ],
      "execution_count": 0,
      "outputs": []
    }
  ]
}